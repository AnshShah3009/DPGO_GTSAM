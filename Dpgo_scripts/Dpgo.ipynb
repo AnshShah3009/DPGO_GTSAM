{
 "cells": [
  {
   "cell_type": "code",
   "execution_count": 1,
   "metadata": {},
   "outputs": [],
   "source": [
    "import gtsam\n",
    "import numpy as np\n",
    "graph = gtsam.NonlinearFactorGraph()\n",
    "initial = gtsam.Values()\n",
    "\n",
    "graph.add(gtsam.PriorFactorPose3(0, gtsam.Pose3(), gtsam.noiseModel.Diagonal.Sigmas(np.array([0.3, 0.3, 0.3, 0.1, 0.1, 0.1]))))\n",
    "initial.insert(0, gtsam.Pose3())\n",
    "initial.insert(1, gtsam.Pose3())\n",
    "initial.insert(2, gtsam.Pose3())"
   ]
  },
  {
   "cell_type": "code",
   "execution_count": 2,
   "metadata": {},
   "outputs": [
    {
     "name": "stdout",
     "output_type": "stream",
     "text": [
      "GncParams: \n",
      "lossType: Truncated Least-squares\n",
      "maxIterations: 100\n",
      "muStep: 1.4\n",
      "relativeCostTol: 1e-05\n",
      "weightsTol: 0.0001\n",
      "verbosity: 0\n",
      "Base optimizer params: \n",
      "relative decrease threshold: 1e-05\n",
      "absolute decrease threshold: 1e-05\n",
      "      total error threshold: 0\n",
      "         maximum iterations: 100\n",
      "                  verbosity: SILENT\n",
      "         linear solver type: MULTIFRONTAL CHOLESKY\n",
      "                   ordering: COLAMD\n",
      "              lambdaInitial: 1e-05\n",
      "               lambdaFactor: 10\n",
      "           lambdaUpperBound: 100000\n",
      "           lambdaLowerBound: 0\n",
      "           minModelFidelity: 0.001\n",
      "            diagonalDamping: 0\n",
      "                minDiagonal: 1e-06\n",
      "                maxDiagonal: 1e+32\n",
      "                verbosityLM: SILENT\n",
      "\n",
      "Values with 3 values:\n",
      "Value 0: (gtsam::Pose3)\n",
      "R: [\n",
      "\t1, 0, 0;\n",
      "\t0, 1, 0;\n",
      "\t0, 0, 1\n",
      "]\n",
      "t: 0 0 0\n",
      "\n",
      "Value 1: (gtsam::Pose3)\n",
      "R: [\n",
      "\t1, 0, 0;\n",
      "\t0, 1, 0;\n",
      "\t0, 0, 1\n",
      "]\n",
      "t: 0 0 0\n",
      "\n",
      "Value 2: (gtsam::Pose3)\n",
      "R: [\n",
      "\t1, 0, 0;\n",
      "\t0, 1, 0;\n",
      "\t0, 0, 1\n",
      "]\n",
      "t: 0 0 0\n",
      "\n"
     ]
    }
   ],
   "source": [
    "# GNC LM Optimizer\n",
    "LM_params = gtsam.LevenbergMarquardtParams()\n",
    "\n",
    "gnc_lm_params = gtsam.GncLMParams(LM_params)\n",
    "inlier = gtsam.KeyVector()\n",
    "inlier.append(0)\n",
    "# gtsam.GncLMParams.setInlierIndices(gnc_lm_params, inlier)\n",
    "# gnc_lm_optimizer.setInlierCostThresholds()\n",
    "print(gnc_lm_params)\n",
    "gnc_lm_optimizer = gtsam.GncLMOptimizer(graph, initial, gnc_lm_params)\n",
    "gnc_lm_optimizer.optimize().print()\n",
    "# print(\"Weights : \", gnc_lm_optimizer.getWeights())\n",
    "weights = gnc_lm_optimizer.getWeights()\n",
    "# print(len(weights), len(index))\n",
    "# for i in range(len(weights)):\n",
    "#     print(\"Edge : \", index[i], \" Weigth : \", weights[i])"
   ]
  },
  {
   "cell_type": "code",
   "execution_count": null,
   "metadata": {},
   "outputs": [],
   "source": []
  }
 ],
 "metadata": {
  "kernelspec": {
   "display_name": "gtsam",
   "language": "python",
   "name": "python3"
  },
  "language_info": {
   "codemirror_mode": {
    "name": "ipython",
    "version": 3
   },
   "file_extension": ".py",
   "mimetype": "text/x-python",
   "name": "python",
   "nbconvert_exporter": "python",
   "pygments_lexer": "ipython3",
   "version": "3.8.10"
  },
  "orig_nbformat": 4
 },
 "nbformat": 4,
 "nbformat_minor": 2
}
