{
 "cells": [
  {
   "cell_type": "code",
   "execution_count": 1,
   "id": "e81599dd",
   "metadata": {},
   "outputs": [],
   "source": [
    "import numpy as np \n",
    "import random\n",
    "import math"
   ]
  },
  {
   "cell_type": "code",
   "execution_count": 2,
   "id": "6a652bc7",
   "metadata": {},
   "outputs": [],
   "source": [
    "Scene1 = [ [ 100, 100 ] , [100, 400], [400,100], [400, 400] , [250,400] ] \n",
    "Scene2 = [ [ 100, 700 ] , [100, 400], [400,100], [400, 400] , [250,250] ] \n",
    "\n",
    "Scene3 = []\n",
    "\n",
    "R = np.asarray( [ [ math.cos(30) , -math.sin(30) ], [ math.sin(30) , math.cos(30) ] ] )\n",
    "\n",
    "for i in range( len(Scene2) ):\n",
    "    \n",
    "    S = R@np.asarray(Scene2[i]).T\n",
    "    Scene3.append(S)\n",
    "    \n",
    "Scene2= Scene3 "
   ]
  },
  {
   "cell_type": "code",
   "execution_count": 3,
   "id": "bf1932f8",
   "metadata": {},
   "outputs": [],
   "source": [
    "def GetEdgeProb(x, mean):\n",
    "    return np.exp( -np.abs(x- mean) )"
   ]
  },
  {
   "cell_type": "code",
   "execution_count": null,
   "id": "f0c1a631",
   "metadata": {},
   "outputs": [],
   "source": []
  },
  {
   "cell_type": "code",
   "execution_count": 4,
   "id": "dedb3e03",
   "metadata": {},
   "outputs": [],
   "source": [
    "def GetAllEdgeProb():\n",
    "    \n",
    "    Edgeprob = {} \n",
    "    \n",
    "    for i in range(len( Scene1)):\n",
    "        for j in range(len(Scene2)):\n",
    "            \n",
    "            index = (i,j)\n",
    "            Dist1 =  np.linalg.norm( np.asarray( Scene1[i] ) - np.asarray( Scene1[j]))\n",
    "            Dist2 =  np.linalg.norm( np.asarray( Scene2[i] ) - np.asarray( Scene2[j]))\n",
    "            \n",
    "            Edgeprob[index] = GetEdgeProb( Dist1 , Dist2)\n",
    "    \n",
    "    return Edgeprob"
   ]
  },
  {
   "cell_type": "code",
   "execution_count": 5,
   "id": "de0965d4",
   "metadata": {},
   "outputs": [
    {
     "name": "stdout",
     "output_type": "stream",
     "text": [
      "{(0, 0): 1.0, (0, 1): 0.9999999999999432, (0, 2): 9.010511273244143e-162, (0, 3): 0.9999999999999432, (0, 4): 4.6008371328886736e-61, (1, 0): 0.9999999999999432, (1, 1): 1.0, (1, 2): 1.0, (1, 3): 1.0, (1, 4): 1.038485243581605e-27, (2, 0): 9.010511273244143e-162, (2, 1): 1.0, (2, 2): 1.0, (2, 3): 1.0, (2, 4): 2.89050940897982e-54, (3, 0): 0.9999999999999432, (3, 1): 1.0, (3, 2): 1.0, (3, 3): 1.0, (3, 4): 1.038485243581605e-27, (4, 0): 4.6008371328886736e-61, (4, 1): 1.038485243581605e-27, (4, 2): 2.89050940897982e-54, (4, 3): 1.038485243581605e-27, (4, 4): 1.0}\n"
     ]
    }
   ],
   "source": [
    "E_Prob = GetAllEdgeProb()\n",
    "print(E_Prob)"
   ]
  },
  {
   "cell_type": "code",
   "execution_count": 6,
   "id": "aa9aa279",
   "metadata": {},
   "outputs": [],
   "source": [
    "Node_Prob_Init = [0.5,0.5,0.5,0.5, 0.5]"
   ]
  },
  {
   "cell_type": "code",
   "execution_count": 7,
   "id": "f53a08a1",
   "metadata": {},
   "outputs": [],
   "source": [
    "for r in range(2000):\n",
    "\n",
    "    for i in range(len( Scene1)):\n",
    "        score = 0 \n",
    "        for j in range(len( Scene2)):\n",
    "\n",
    "            edge = (i,j)\n",
    "            edge_prob = E_Prob[edge]\n",
    "            score += edge_prob*Node_Prob_Init[j]\n",
    "\n",
    "        Node_Prob_Init[i] = 1/(1 + np.exp(-score))    "
   ]
  },
  {
   "cell_type": "code",
   "execution_count": 8,
   "id": "49227e0a",
   "metadata": {},
   "outputs": [
    {
     "data": {
      "text/plain": [
       "[0.9481767842196662,\n",
       " 0.9792629759722802,\n",
       " 0.9481767842196721,\n",
       " 0.9792629759722802,\n",
       " 0.6590460684074066]"
      ]
     },
     "execution_count": 8,
     "metadata": {},
     "output_type": "execute_result"
    }
   ],
   "source": [
    "Node_Prob_Init"
   ]
  },
  {
   "cell_type": "code",
   "execution_count": 9,
   "id": "e7ce6bc9",
   "metadata": {},
   "outputs": [],
   "source": [
    "def UpdateNodeProb1(Node_Probablity , node_index):\n",
    "    \n",
    "    A = 1\n",
    "    B = 1 \n",
    "    \n",
    "    for i in range( len(Node_Probablity )):\n",
    "        \n",
    "        if( i !=  node_index ):\n",
    "            \n",
    "            A *= E_Prob[ (i , node_index) ]\n",
    "            B *= Node_Probablity[i]\n",
    "    \n",
    "    NodeProb = A/B\n",
    "    Node_Probablity[node_index] = NodeProb\n",
    "    print( A, B )\n",
    "    \n",
    "    return Node_Probablity"
   ]
  },
  {
   "cell_type": "code",
   "execution_count": 10,
   "id": "188253cf",
   "metadata": {},
   "outputs": [],
   "source": [
    "def GetNormalization( Node_Probablity ):\n",
    "    \n",
    "    NormalizationVal = 0\n",
    "    \n",
    "    for i in range(len( Scene1)):\n",
    "        for j in range(len( Scene2)):\n",
    "            \n",
    "            if(i != j ):\n",
    "                \n",
    "                index = (i,j)\n",
    "                Edge_Prob1 = E_Prob[ (i , j) ]\n",
    "                A = Node_Probablity[i]\n",
    "                \n",
    "                NormalizationVal += Edge_Prob1/A\n",
    "                \n",
    "    return NormalizationVal/4      "
   ]
  },
  {
   "cell_type": "code",
   "execution_count": 11,
   "id": "f7f86e5d",
   "metadata": {},
   "outputs": [],
   "source": [
    "def UpdateNodeProb2(Node_Probablity , node_index):\n",
    "    \n",
    "    A = 1\n",
    "    B = 1 \n",
    "    Total = 0\n",
    "    for i in range( len(Node_Probablity )):\n",
    "        \n",
    "        if( i !=  node_index ):\n",
    "            \n",
    "            A = E_Prob[ (i , node_index) ]\n",
    "            B = Node_Probablity[i]\n",
    "            \n",
    "            Total += A/B\n",
    "    \n",
    "    NodeProb = Total/GetNormalization( Node_Probablity ) \n",
    "#     print(GetNormalization( Node_Probablity ) )\n",
    "    Node_Probablity[node_index] = NodeProb\n",
    "    \n",
    "    return Node_Probablity"
   ]
  },
  {
   "cell_type": "code",
   "execution_count": 12,
   "id": "902b840a",
   "metadata": {},
   "outputs": [],
   "source": [
    "NumIters = 100\n",
    "Node_Probablity = Node_Prob_Init\n",
    "for iters in range(NumIters):\n",
    "    for i in range( len(Node_Probablity )):\n",
    "        \n",
    "        Node_Probablity = UpdateNodeProb2(  Node_Probablity , i)"
   ]
  },
  {
   "cell_type": "code",
   "execution_count": 13,
   "id": "579853d8",
   "metadata": {},
   "outputs": [
    {
     "name": "stdout",
     "output_type": "stream",
     "text": [
      "[2.9506512910048424e-27, 2.0, 4.191835316288542e-27, 2.0, 4.4188071853953555e-54]\n"
     ]
    }
   ],
   "source": [
    "print( Node_Probablity )"
   ]
  },
  {
   "cell_type": "code",
   "execution_count": null,
   "id": "fc7aea2b",
   "metadata": {},
   "outputs": [],
   "source": []
  },
  {
   "cell_type": "code",
   "execution_count": null,
   "id": "82a147a7",
   "metadata": {},
   "outputs": [],
   "source": []
  }
 ],
 "metadata": {
  "kernelspec": {
   "display_name": "TDL2022",
   "language": "python",
   "name": "tdl2022"
  },
  "language_info": {
   "codemirror_mode": {
    "name": "ipython",
    "version": 3
   },
   "file_extension": ".py",
   "mimetype": "text/x-python",
   "name": "python",
   "nbconvert_exporter": "python",
   "pygments_lexer": "ipython3",
   "version": "3.8.10"
  }
 },
 "nbformat": 4,
 "nbformat_minor": 5
}
